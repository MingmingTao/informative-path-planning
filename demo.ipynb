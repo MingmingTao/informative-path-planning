{
 "cells": [
  {
   "cell_type": "markdown",
   "metadata": {},
   "source": [
    "# Demo Notebook\n",
    "This notebook is to demonstrate the different classes and functions in the ipp_library.py file found in this repository. "
   ]
  },
  {
   "cell_type": "code",
   "execution_count": null,
   "metadata": {
    "collapsed": true
   },
   "outputs": [],
   "source": [
    "# Imports\n",
    "from matplotlib import pyplot as plt\n",
    "import matplotlib\n",
    "from matplotlib.colors import LogNorm\n",
    "from matplotlib import cm\n",
    "from sklearn import mixture\n",
    "from IPython.display import display\n",
    "from scipy.stats import multivariate_normal\n",
    "import numpy as np\n",
    "import scipy as sp\n",
    "import math\n",
    "import os\n",
    "import GPy as GPy\n",
    "import dubins\n",
    "import time\n",
    "from itertools import chain"
   ]
  },
  {
   "cell_type": "code",
   "execution_count": null,
   "metadata": {
    "collapsed": true
   },
   "outputs": [],
   "source": [
    "import logging\n",
    "reward_function = 'mean'\n",
    "if not os.path.exists('./figures/' + str(reward_function)): \n",
    "    os.makedirs('./figures/' + str(reward_function))\n",
    "logging.basicConfig(filename = './figures/'+ reward_function + '/robot.log', level = logging.INFO)\n",
    "logger = logging.getLogger('robot')\n",
    "from ipp_library import *"
   ]
  },
  {
   "cell_type": "code",
   "execution_count": null,
   "metadata": {},
   "outputs": [],
   "source": [
    "%matplotlib inline\n",
    "%load_ext autoreload\n",
    "%aimport ipp_library\n",
    "%autoreload 1"
   ]
  },
  {
   "cell_type": "code",
   "execution_count": null,
   "metadata": {
    "scrolled": false
   },
   "outputs": [],
   "source": [
    "# Create a random enviroment sampled from a GP with an RBF kernel and specified hyperparameters, mean function 0 \n",
    "# The enviorment will be constrained by a set of uniformly distributed  sample points of size NUM_PTS x NUM_PTS\n",
    "''' Options include mean, info_gain, hotspot_info, and mes'''\n",
    "ranges = (0., 10., 0., 10.)\n",
    "\n",
    "world = Environment(ranges = ranges, # x1min, x1max, x2min, x2max constraints\n",
    "                    NUM_PTS = 20, \n",
    "                    variance = 100.0, \n",
    "                    lengthscale = 1.0, \n",
    "                    visualize = True,\n",
    "                    seed = 3000)\n",
    "\n",
    "evaluation = Evaluation(world = world, \n",
    "                        reward_function = reward_function)\n",
    "\n",
    "# Gather some prior observations to train the kernel (optional)\n",
    "#x1observe = np.linspace(ranges[0]+0.5, ranges[1]-0,5, 15)\n",
    "#x2observe = np.linspace(ranges[2]+0.5, ranges[3]-0.5, 15)\n",
    "x1observe = np.linspace(0., 10., 10)\n",
    "x2observe = np.linspace(0., 10., 10)\n",
    "x1observe, x2observe = np.meshgrid(x1observe, x2observe, sparse = False, indexing = 'xy')  \n",
    "data = np.vstack([x1observe.ravel(), x2observe.ravel()]).T\n",
    "\n",
    "# TODO: make the edges less appealing!\n",
    "\n",
    "observations = world.sample_value(data)\n",
    "\n",
    "# Create the point robot\n",
    "#obot.__class__ = Nonmyopic_Robot\n",
    "robot = Nonmyopic_Robot(sample_world = world.sample_value, \n",
    "              start_loc = (5.0, 5.0, 0.0), \n",
    "              extent = ranges,\n",
    "              kernel_file = None,\n",
    "              kernel_dataset = None,\n",
    "              prior_dataset =  None, \n",
    "              #prior_dataset =  (data, observations), \n",
    "              init_lengthscale = 1.0, \n",
    "              init_variance = 100.0, \n",
    "              noise = 0.0001,\n",
    "              path_generator = 'dubins',\n",
    "              frontier_size = 20, \n",
    "              horizon_length = 1.5, \n",
    "              turning_radius = 0.06, \n",
    "              sample_step = 0.5,\n",
    "              evaluation = evaluation, \n",
    "              f_rew = reward_function, \n",
    "              create_animation = True,\n",
    "              computation_budget = 10.0,\n",
    "              rollout_length = 5) \n",
    "\n",
    "robot.planner(T = 3)\n",
    "robot.visualize_world_model(screen = True)\n",
    "robot.visualize_trajectory(screen = True)\n",
    "robot.plot_information()\n"
   ]
  },
  {
   "cell_type": "code",
   "execution_count": null,
   "metadata": {
    "collapsed": true,
    "scrolled": false
   },
   "outputs": [],
   "source": [
    "# Create a random enviroment sampled from a GP with an RBF kernel and specified hyperparameters, mean function 0 \n",
    "# The enviorment will be constrained by a set of uniformly distributed  sample points of size NUM_PTS x NUM_PTS\n",
    "''' Options include mean, info_gain, hotspot_info, exp_improve and mes'''\n",
    "reward_function = 'mes'\n",
    "ranges = (0., 10., 0., 10.)\n",
    "\n",
    "world = Environment(ranges = ranges, # x1min, x1max, x2min, x2max constraints\n",
    "                    NUM_PTS = 20, \n",
    "                    variance = 100.0, \n",
    "                    lengthscale = 1.0, \n",
    "                    visualize = True,\n",
    "                    seed = 3)\n",
    "\n",
    "evaluation = Evaluation(world = world, \n",
    "                        reward_function = reward_function)\n",
    "\n",
    "# Gather some prior observations to train the kernel (optional)\n",
    "x1observe = np.linspace(ranges[0], ranges[1], 8)\n",
    "x2observe = np.linspace(ranges[2], ranges[3], 8)\n",
    "x1observe, x2observe = np.meshgrid(x1observe, x2observe, sparse = False, indexing = 'xy')  \n",
    "data = np.vstack([x1observe.ravel(), x2observe.ravel()]).T\n",
    "observations = world.sample_value(data)\n",
    "\n",
    "# Create the point robot\n",
    "robot = Robot(sample_world = world.sample_value, \n",
    "              start_loc = (5.0, 5.0, 0.0), \n",
    "              extent = ranges,\n",
    "              kernel_file = None,\n",
    "              kernel_dataset = None,\n",
    "              #prior_dataset =  None, \n",
    "              prior_dataset =  (data, observations), \n",
    "              init_lengthscale = 1.0, \n",
    "              init_variance = 100.0, \n",
    "              noise = 0.0001,\n",
    "              path_generator = 'dubins',\n",
    "              frontier_size = 20, \n",
    "              horizon_length = 3.0, \n",
    "              turning_radius = 0.05, \n",
    "              sample_step = 0.5,\n",
    "              evaluation = evaluation, \n",
    "              f_rew = reward_function, \n",
    "              create_animation = True)\n",
    "\n",
    "robot.planner(T = 140)\n",
    "robot.visualize_world_model(screen = True)\n",
    "robot.visualize_trajectory(screen = True)\n",
    "robot.plot_information()"
   ]
  },
  {
   "cell_type": "markdown",
   "metadata": {},
   "source": [
    "## [Link to trajectories and video](https://drive.google.com/drive/u/0/folders/1Xc5W2qg42H-HC5SGa_Gvvq0doq8sIaPp) for nonmyopic mes demo that gets stuck on the edge"
   ]
  },
  {
   "cell_type": "code",
   "execution_count": null,
   "metadata": {
    "collapsed": true
   },
   "outputs": [],
   "source": [
    "import io\n",
    "import base64\n",
    "from IPython.display import HTML\n",
    "\n",
    "\n",
    "video = io.open('./figures/mes/output.mp4', 'r+b').read()\n",
    "encoded = base64.b64encode(video)\n",
    "HTML(data='''<video alt=\"test\" controls>\n",
    "                <source src=\"data:video/mp4;base64,{0}\" type=\"video/mp4\" />\n",
    "             </video>'''.format(encoded.decode('ascii')))\n"
   ]
  },
  {
   "cell_type": "code",
   "execution_count": null,
   "metadata": {
    "collapsed": true
   },
   "outputs": [],
   "source": []
  }
 ],
 "metadata": {
  "kernelspec": {
   "display_name": "Python 2",
   "language": "python",
   "name": "python2"
  },
  "language_info": {
   "codemirror_mode": {
    "name": "ipython",
    "version": 2
   },
   "file_extension": ".py",
   "mimetype": "text/x-python",
   "name": "python",
   "nbconvert_exporter": "python",
   "pygments_lexer": "ipython2",
   "version": "2.7.14"
  }
 },
 "nbformat": 4,
 "nbformat_minor": 2
}
