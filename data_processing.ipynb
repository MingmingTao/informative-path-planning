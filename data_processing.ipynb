{
 "cells": [
  {
   "cell_type": "markdown",
   "metadata": {},
   "source": [
    "# Processing Simulation Data\n",
    "This notebook is to be used as a local tool to process simulation data that is generated after running ```run_sim/sh``` in the repository. This allows all simulation information to be aggregated nicely and averaged. PANDAS is the primary tool for processing the data."
   ]
  },
  {
   "cell_type": "code",
   "execution_count": 124,
   "metadata": {},
   "outputs": [],
   "source": [
    "#imports\n",
    "import pandas as pd\n",
    "import numpy as np\n",
    "import scipy as sp\n",
    "import matplotlib\n",
    "import matplotlib.pyplot as plt\n",
    "import math\n",
    "from IPython.display import display\n",
    "from matplotlib.colors import LogNorm\n",
    "from matplotlib import cm\n",
    "import os\n",
    "\n",
    "%matplotlib inline"
   ]
  },
  {
   "cell_type": "code",
   "execution_count": 125,
   "metadata": {},
   "outputs": [],
   "source": [
    "#get the data files\n",
    "f_mean = []\n",
    "f_mes = []\n",
    "f_ei = []\n",
    "path= '/home/vpreston/Documents/IPP/informative-path-planning/experiments'\n",
    "for root, dirs, files in os.walk(path):\n",
    "    for name in files:\n",
    "        if 'metric' in name and 'mean' in root:\n",
    "            f_mean.append(root + \"/\" + name)\n",
    "        elif 'metric' in name and 'exp_improve' in root:\n",
    "            f_ei.append(root + \"/\" + name)\n",
    "        elif 'metric' in name and 'mes' in root:\n",
    "            f_mes.append(root + \"/\" + name)"
   ]
  },
  {
   "cell_type": "code",
   "execution_count": 126,
   "metadata": {},
   "outputs": [],
   "source": [
    "# variables for making dataframes\n",
    "l = ['time', 'info_gain','aqu_fun', 'MSE', 'hotspot_error','max_loc_error', 'max_val_error', \n",
    "                    'simple_regret', 'sample_regret_loc', 'sample_regret_val', 'regret', 'info_regret',\n",
    "                    'current_highest_obs', 'current_highest_obs_loc_x', 'current_highest_obs_loc_y',\n",
    "                    'robot_loc_x', 'robot_loc_y', 'robot_loc_a', 'star_obs_0', 'star_obs_loc_x_0',\n",
    "                    'star_obs_loc_y_0', 'star_obs_1', 'star_obs_loc_x_1', 'star_obs_loc_y_1']"
   ]
  },
  {
   "cell_type": "code",
   "execution_count": 127,
   "metadata": {},
   "outputs": [
    {
     "name": "stdout",
     "output_type": "stream",
     "text": [
      "3325\n"
     ]
    }
   ],
   "source": [
    "#All UCB data\n",
    "d = f_mean[0]\n",
    "mean_data = pd.read_table(d, delimiter = \" \", header=None)\n",
    "mean_data = mean_data.T\n",
    "mean_data.columns = l\n",
    "\n",
    "for m in f_mean[1:]:\n",
    "    temp_data = pd.read_table(m, delimiter = \" \", header=None)\n",
    "    temp_data = temp_data.T\n",
    "    temp_data.columns = l\n",
    "    mean_data = mean_data.append(temp_data)\n",
    "\n",
    "mean_data.head(5)\n",
    "print len(mean_data)"
   ]
  },
  {
   "cell_type": "code",
   "execution_count": 128,
   "metadata": {},
   "outputs": [
    {
     "name": "stdout",
     "output_type": "stream",
     "text": [
      "3325\n"
     ]
    }
   ],
   "source": [
    "#All MES data\n",
    "d = f_mes[0]\n",
    "mes_data = pd.read_table(d, delimiter = \" \", header=None)\n",
    "mes_data = mes_data.T\n",
    "mes_data.columns = l\n",
    "\n",
    "for m in f_mes[1:]:\n",
    "    temp_data = pd.read_table(m, delimiter = \" \", header=None)\n",
    "    temp_data = temp_data.T\n",
    "    temp_data.columns = l\n",
    "    mes_data = mes_data.append(temp_data)\n",
    "\n",
    "mes_data.head(5)\n",
    "print len(mes_data)"
   ]
  },
  {
   "cell_type": "code",
   "execution_count": 129,
   "metadata": {},
   "outputs": [
    {
     "name": "stdout",
     "output_type": "stream",
     "text": [
      "3325\n"
     ]
    }
   ],
   "source": [
    "#All EI data\n",
    "d = f_ei[0]\n",
    "ei_data = pd.read_table(d, delimiter = \" \", header=None)\n",
    "ei_data = ei_data.T\n",
    "ei_data.columns = l\n",
    "\n",
    "for m in f_ei[1:]:\n",
    "    temp_data = pd.read_table(m, delimiter = \" \", header=None)\n",
    "    temp_data = temp_data.T\n",
    "    temp_data.columns = l\n",
    "    ei_data = ei_data.append(temp_data)\n",
    "\n",
    "ei_data.head(5)\n",
    "print len(ei_data)"
   ]
  },
  {
   "cell_type": "markdown",
   "metadata": {},
   "source": [
    "## Getting Averages at the End of Time\n",
    "First, let's go ahead and get a snapshot of the last frame for all of these simulations"
   ]
  },
  {
   "cell_type": "code",
   "execution_count": 131,
   "metadata": {
    "scrolled": false
   },
   "outputs": [
    {
     "name": "stdout",
     "output_type": "stream",
     "text": [
      "-------------\n",
      "time\n",
      "MEAN:    174.0, 0.0\n",
      "MES :    174.0, 0.0\n",
      "EI  :    174.0, 0.0\n",
      "-------------\n",
      "info_gain\n",
      "MEAN:    22802.0843046, 1123.17550336\n",
      "MES :    21712.5414852, 1017.10360536\n",
      "EI  :    17431.0382326, 2363.94845091\n",
      "-------------\n",
      "aqu_fun\n",
      "MEAN:    348528.664553, 12699.8815916\n",
      "MES :    455.220694362, 33.7880961038\n",
      "EI  :    56830.3412734, 9904.74833354\n",
      "-------------\n",
      "MSE\n",
      "MEAN:    0.544991048711, 0.549624924661\n",
      "MES :    0.701390341014, 0.461756622383\n",
      "EI  :    5.55468520305, 5.53179048675\n",
      "-------------\n",
      "hotspot_error\n",
      "MEAN:    0.733459822195, 0.746579671747\n",
      "MES :    1.15451642702, 0.867340313035\n",
      "EI  :    7.52062968187, 8.75087005949\n",
      "-------------\n",
      "max_loc_error\n",
      "MEAN:    1.49897613682, 2.3197252252\n",
      "MES :    1.26491043611, 2.20382777341\n",
      "EI  :    1.14489978429, 2.0561047236\n",
      "-------------\n",
      "max_val_error\n",
      "MEAN:    0.723198105172, 0.592731870176\n",
      "MES :    0.725726122815, 0.569371536369\n",
      "EI  :    0.758626058051, 0.587477424543\n",
      "-------------\n",
      "simple_regret\n",
      "MEAN:    3.37217637778, 2.81122151159\n",
      "MES :    1.15679357902, 1.23709053853\n",
      "EI  :    3.81213023752, 3.08752432308\n",
      "-------------\n",
      "sample_regret_loc\n",
      "MEAN:    3.95198933469, 1.24145389015\n",
      "MES :    3.09904567349, 0.679957296245\n",
      "EI  :    3.78210842863, 1.88396134125\n",
      "-------------\n",
      "sample_regret_val\n",
      "MEAN:    17.9552478189, 4.106679663\n",
      "MES :    17.861398184, 3.9355565867\n",
      "EI  :    14.5031093712, 3.62969083044\n",
      "-------------\n",
      "regret\n",
      "MEAN:    3998.72651575, 504.550861835\n",
      "MES :    3870.4933253, 503.509024393\n",
      "EI  :    3575.36558262, 695.936826619\n",
      "-------------\n",
      "info_regret\n",
      "MEAN:    30.3438545193, 17.800498599\n",
      "MES :    14.0691205198, 4.26159663051\n",
      "EI  :    44.594243945, 29.2645185736\n",
      "-------------\n",
      "current_highest_obs\n",
      "MEAN:    27.9605271938, 7.11354474212\n",
      "MES :    28.0550928372, 7.08176139978\n",
      "EI  :    27.533455978, 7.53367739859\n",
      "-------------\n",
      "current_highest_obs_loc_x\n",
      "MEAN:    5.61347626354, 2.87048879035\n",
      "MES :    5.42208745884, 2.90168576755\n",
      "EI  :    5.56792038764, 2.83377331045\n",
      "-------------\n",
      "current_highest_obs_loc_y\n",
      "MEAN:    4.65971271527, 2.22830466308\n",
      "MES :    4.54483175756, 2.217282609\n",
      "EI  :    4.78610409573, 2.50747125083\n",
      "-------------\n",
      "robot_loc_x\n",
      "MEAN:    4.67785197858, 2.89842377663\n",
      "MES :    5.68435408327, 3.10307141231\n",
      "EI  :    4.99029162797, 2.73590697331\n",
      "-------------\n",
      "robot_loc_y\n",
      "MEAN:    5.83040061562, 3.08511910665\n",
      "MES :    4.24141184727, 2.42101549699\n",
      "EI  :    5.46579382704, 3.50369102793\n",
      "-------------\n",
      "robot_loc_a\n",
      "MEAN:    2.99195262061, 1.45920478881\n",
      "MES :    2.96861582525, 1.99663650862\n",
      "EI  :    2.66395342908, 2.12888253466\n",
      "-------------\n",
      "star_obs_0\n",
      "MEAN:    -1.0, 0.0\n",
      "MES :    28.1397569319, 7.06719272178\n",
      "EI  :    -1.0, 0.0\n",
      "-------------\n",
      "star_obs_loc_x_0\n",
      "MEAN:    -1.0, 0.0\n",
      "MES :    5.85868464396, 2.69140635582\n",
      "EI  :    -1.0, 0.0\n",
      "-------------\n",
      "star_obs_loc_y_0\n",
      "MEAN:    -1.0, 0.0\n",
      "MES :    4.58899839372, 2.22022026933\n",
      "EI  :    -1.0, 0.0\n",
      "-------------\n",
      "star_obs_1\n",
      "MEAN:    -1.0, 0.0\n",
      "MES :    28.1305129406, 7.06869226562\n",
      "EI  :    -1.0, 0.0\n",
      "-------------\n",
      "star_obs_loc_x_1\n",
      "MEAN:    -1.0, 0.0\n",
      "MES :    5.42037892529, 2.9023219703\n",
      "EI  :    -1.0, 0.0\n",
      "-------------\n",
      "star_obs_loc_y_1\n",
      "MEAN:    -1.0, 0.0\n",
      "MES :    4.5444479888, 2.21338588552\n",
      "EI  :    -1.0, 0.0\n"
     ]
    }
   ],
   "source": [
    "mean_end = mean_data[mean_data.time == 174]\n",
    "mes_end = mes_data[mes_data.time == 174]\n",
    "ei_end = ei_data[ei_data.time == 174]\n",
    "\n",
    "for e in l:\n",
    "    print '-------------'\n",
    "    print str(e)\n",
    "    print 'MEAN:    ' + str(mean_end[e].mean()) + ', ' + str(mean_end[e].std())\n",
    "    print 'MES :    ' + str(mes_end[e].mean()) + ', '  + str(mes_end[e].std())\n",
    "    print 'EI  :    ' + str(ei_end[e].mean()) + ', ' + str(ei_end[e].std())"
   ]
  },
  {
   "cell_type": "markdown",
   "metadata": {},
   "source": [
    "## Looking at Samples\n",
    "Now, we'll take a look at the relative distance from the best hotspot the samples across the trials were taken."
   ]
  },
  {
   "cell_type": "code",
   "execution_count": 132,
   "metadata": {},
   "outputs": [],
   "source": [
    "# get the robot log files\n",
    "max_val = []\n",
    "max_loc = []\n",
    "path= '/home/vpreston/Documents/IPP/informative-path-planning/experiments'\n",
    "for root, dirs, files in os.walk(path):\n",
    "    for name in files:\n",
    "        if 'log' in name and 'mean' in root:\n",
    "            temp = open(root+'/'+name, \"r\")\n",
    "            for l in temp.readlines():\n",
    "                if \"max value\" in l:\n",
    "                    max_val.append(float(l.split(\" \")[3]))\n",
    "                    max_loc.append((float(l.split(\" \")[6].split(\"[\")[1]), float(l.split(\" \")[7].split(\"]\")[0])))"
   ]
  },
  {
   "cell_type": "code",
   "execution_count": 159,
   "metadata": {},
   "outputs": [],
   "source": [
    "# get the robot samples list\n",
    "mean_samples = []\n",
    "mes_samples = []\n",
    "ei_samples = []\n",
    "\n",
    "path= '/home/vpreston/Documents/IPP/informative-path-planning/experiments'\n",
    "for root, dirs, files in os.walk(path):\n",
    "    for name in files:\n",
    "        if 'robot_model' in name and 'mean' in root:\n",
    "            mean_samples.append(root+\"/\"+name)\n",
    "        elif 'robot_model' in name and 'exp_improve' in root:\n",
    "            ei_samples.append(root+\"/\"+name)\n",
    "        elif 'robot_model' in name and 'mes' in root:\n",
    "            mes_samples.append(root+\"/\"+name)\n",
    "\n",
    "##### MEAN\n",
    "mean_prop = []\n",
    "d = mean_samples[0]\n",
    "mean_sdata = pd.read_table(d, delimiter = \" \", header=None)\n",
    "mean_sdata = mean_sdata.T\n",
    "mean_sdata.columns = ['x','y','a']\n",
    "mean_sdata.loc[:, 'Distance'] = mean_sdata.apply(lambda x: np.sqrt((x['x']-max_loc[0][0])**2+(x['y']-max_loc[0][1])**2),axis=1)\n",
    "mean_prop.append(float(len(mean_sdata[mean_sdata.Distance < 1.5]))/len(mean_sdata))\n",
    "\n",
    "for i,m in enumerate(mean_samples[1:]):\n",
    "    temp_data = pd.read_table(m, delimiter = \" \", header=None)\n",
    "    temp_data = temp_data.T\n",
    "    temp_data.columns = ['x','y','a']\n",
    "    temp_data.loc[:,'Distance'] = temp_data.apply(lambda x: np.sqrt((x['x']-max_loc[i+1][0])**2+(x['y']-max_loc[i+1][1])**2),axis=1)\n",
    "    mean_prop.append(float(len(temp_data[temp_data.Distance < 1.5]))/len(temp_data))\n",
    "    mean_sdata = mean_sdata.append(temp_data)\n",
    "\n",
    "##### MES\n",
    "mes_prop = []\n",
    "d = mes_samples[0]\n",
    "mes_sdata = pd.read_table(d, delimiter = \" \", header=None)\n",
    "mes_sdata = mes_sdata.T\n",
    "mes_sdata.columns = ['x','y','a']\n",
    "mes_sdata.loc[:, 'Distance'] = mes_sdata.apply(lambda x: np.sqrt((x['x']-max_loc[0][0])**2+(x['y']-max_loc[0][1])**2),axis=1)\n",
    "mes_prop.append(float(len(mes_sdata[mes_sdata.Distance < 1.5]))/len(mes_sdata))\n",
    "\n",
    "for i,m in enumerate(mes_samples[1:]):\n",
    "    temp_data = pd.read_table(m, delimiter = \" \", header=None)\n",
    "    temp_data = temp_data.T\n",
    "    temp_data.columns = ['x','y','a']\n",
    "    temp_data.loc[:,'Distance'] = temp_data.apply(lambda x: np.sqrt((x['x']-max_loc[i+1][0])**2+(x['y']-max_loc[i+1][1])**2),axis=1)\n",
    "    mes_prop.append(float(len(temp_data[temp_data.Distance < 1.5]))/len(temp_data))\n",
    "    mes_sdata = mes_sdata.append(temp_data)\n",
    "\n",
    "##### EI\n",
    "ei_prop = []\n",
    "d = ei_samples[0]\n",
    "ei_sdata = pd.read_table(d, delimiter = \" \", header=None)\n",
    "ei_sdata = ei_sdata.T\n",
    "ei_sdata.columns = ['x','y','a']\n",
    "ei_sdata.loc[:, 'Distance'] = ei_sdata.apply(lambda x: np.sqrt((x['x']-max_loc[0][0])**2+(x['y']-max_loc[0][1])**2),axis=1)\n",
    "ei_prop.append(float(len(ei_sdata[ei_sdata.Distance < 1.5]))/len(ei_sdata))\n",
    "\n",
    "for i,m in enumerate(ei_samples[1:]):\n",
    "    temp_data = pd.read_table(m, delimiter = \" \", header=None)\n",
    "    temp_data = temp_data.T\n",
    "    temp_data.columns = ['x','y','a']\n",
    "    temp_data.loc[:,'Distance'] = temp_data.apply(lambda x: np.sqrt((x['x']-max_loc[i+1][0])**2+(x['y']-max_loc[i+1][1])**2),axis=1)\n",
    "    ei_prop.append(float(len(temp_data[temp_data.Distance < 1.5]))/len(temp_data))\n",
    "    ei_sdata = ei_sdata.append(temp_data)"
   ]
  },
  {
   "cell_type": "code",
   "execution_count": 160,
   "metadata": {},
   "outputs": [
    {
     "name": "stderr",
     "output_type": "stream",
     "text": [
      "/home/vpreston/anaconda2/lib/python2.7/site-packages/ipykernel_launcher.py:4: DeprecationWarning: object of type <type 'numpy.float64'> cannot be safely interpreted as an integer.\n",
      "  after removing the cwd from sys.path.\n",
      "/home/vpreston/anaconda2/lib/python2.7/site-packages/ipykernel_launcher.py:6: DeprecationWarning: object of type <type 'numpy.float64'> cannot be safely interpreted as an integer.\n",
      "  \n",
      "/home/vpreston/anaconda2/lib/python2.7/site-packages/ipykernel_launcher.py:8: DeprecationWarning: object of type <type 'numpy.float64'> cannot be safely interpreted as an integer.\n",
      "  \n"
     ]
    },
    {
     "data": {
      "image/png": "[encoded data removed]",
      "text/plain": [
       "<matplotlib.figure.Figure at 0x7f664d027dd0>"
      ]
     },
     "metadata": {},
     "output_type": "display_data"
    }
   ],
   "source": [
    "#make the aggregate histograms\n",
    "fig, axes = plt.subplots(1, 3, sharey = True)\n",
    "\n",
    "axes[0].hist(mean_sdata['Distance'].values, bins = np.linspace(min(mean_sdata['Distance'].values), max(mean_sdata['Distance'].values), np.floor(max(mean_sdata['Distance'].values)-min(mean_sdata['Distance'].values))), color = 'b')\n",
    "axes[0].set_title(\"UCB\")\n",
    "axes[1].hist(mes_sdata['Distance'].values, bins = np.linspace(min(mean_sdata['Distance'].values), max(mean_sdata['Distance'].values), np.floor(max(mean_sdata['Distance'].values)-min(mean_sdata['Distance'].values))), color = 'r')\n",
    "axes[1].set_title(\"MES\")\n",
    "axes[2].hist(ei_sdata['Distance'].values,bins = np.linspace(min(mean_sdata['Distance'].values), max(mean_sdata['Distance'].values), np.floor(max(mean_sdata['Distance'].values)-min(mean_sdata['Distance'].values))), color = 'g')\n",
    "axes[2].set_title(\"EI\")\n",
    "plt.show()"
   ]
  },
  {
   "cell_type": "code",
   "execution_count": 161,
   "metadata": {},
   "outputs": [
    {
     "data": {
      "image/png": "[encoded data removed]",
      "text/plain": [
       "<matplotlib.figure.Figure at 0x7f664d023d90>"
      ]
     },
     "metadata": {},
     "output_type": "display_data"
    }
   ],
   "source": [
    "# make the proportional barcharts\n",
    "plt.bar(np.arange(3), [sum(m)/len(m) for m in (mean_prop, mes_prop, ei_prop)])\n",
    "plt.xticks(np.arange(3),['UCB', 'MES', 'EI'])\n",
    "plt.ylabel('Proportion of Samples')\n",
    "plt.title('Average Proportion of Samples taken within 1.5m of the True Maxima')\n",
    "plt.show()"
   ]
  },
  {
   "cell_type": "code",
   "execution_count": null,
   "metadata": {},
   "outputs": [],
   "source": []
  },
  {
   "cell_type": "code",
   "execution_count": null,
   "metadata": {},
   "outputs": [],
   "source": []
  }
 ],
 "metadata": {
  "kernelspec": {
   "display_name": "Python 2",
   "language": "python",
   "name": "python2"
  },
  "language_info": {
   "codemirror_mode": {
    "name": "ipython",
    "version": 2
   },
   "file_extension": ".py",
   "mimetype": "text/x-python",
   "name": "python",
   "nbconvert_exporter": "python",
   "pygments_lexer": "ipython2",
   "version": "2.7.14"
  }
 },
 "nbformat": 4,
 "nbformat_minor": 2
}
