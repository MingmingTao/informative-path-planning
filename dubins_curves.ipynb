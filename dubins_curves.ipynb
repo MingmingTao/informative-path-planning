{
 "cells": [
  {
   "cell_type": "markdown",
   "metadata": {},
   "source": [
    "# Implementing Dubins Curves\n",
    "This notebook is intended for testing different libraries or formulations for Dubins curve type path sets to be used for simulation and field planning work in an adaptive sampling/informative path planning regime.\n",
    "\n",
    "Please note, that you may need to install the following in order to play with the pre-made dubins library:\n",
    "\n",
    "```pip install dubins```"
   ]
  },
  {
   "cell_type": "code",
   "execution_count": 4,
   "metadata": {
    "collapsed": false
   },
   "outputs": [],
   "source": [
    "# Necessary Imports\n",
    "import dubins\n",
    "import numpy as np\n",
    "import matplotlib.pyplot as plt\n",
    "%matplotlib inline"
   ]
  },
  {
   "cell_type": "code",
   "execution_count": 27,
   "metadata": {
    "collapsed": false
   },
   "outputs": [
    {
     "data": {
      "text/plain": [
       "[<matplotlib.lines.Line2D at 0x7f154cfae7d0>]"
      ]
     },
     "execution_count": 27,
     "metadata": {},
     "output_type": "execute_result"
    },
    {
     "data": {
      "image/png": "[encoded data removed]",
      "text/plain": [
       "<matplotlib.figure.Figure at 0x7f15557b0f10>"
      ]
     },
     "metadata": {},
     "output_type": "display_data"
    }
   ],
   "source": [
    "#starting location (x,y,yaw)\n",
    "q0 = (0, 0, 0)\n",
    "\n",
    "#goal location (x,y,yaw)\n",
    "q1 = (10, 10, 3.14)\n",
    "\n",
    "#radius of feasible turn\n",
    "turning_radius = 1.0\n",
    "\n",
    "#sampling \"rate\" or distance\n",
    "step_size = 0.5\n",
    "\n",
    "#find the shortest path, returns a dubins object\n",
    "path = dubins.shortest_path(q0, q1, turning_radius)\n",
    "\n",
    "#sample the path and return the points along the path\n",
    "configurations, _ = path.sample_many(step_size)\n",
    "\n",
    "#plot the path\n",
    "x = []\n",
    "y = []\n",
    "for sample_points in configurations:\n",
    "    x.append(sample_points[0])\n",
    "    y.append(sample_points[1])\n",
    "plt.plot(x,y,'r*')"
   ]
  },
  {
   "cell_type": "code",
   "execution_count": 61,
   "metadata": {
    "collapsed": false
   },
   "outputs": [
    {
     "data": {
      "image/png": "[encoded data removed]",
      "text/plain": [
       "<matplotlib.figure.Figure at 0x7f154c2dba10>"
      ]
     },
     "metadata": {},
     "output_type": "display_data"
    }
   ],
   "source": [
    "'''\n",
    "LSL = 0\n",
    "LSR = 1\n",
    "RSL = 2\n",
    "RSR = 3\n",
    "RLR = 4\n",
    "LRL = 5\n",
    "'''\n",
    "words = [0,1,2,3,4,5]\n",
    "\n",
    "#starting location (x,y,yaw)\n",
    "q0 = (0, 0, 0)\n",
    "\n",
    "#goal location (x,y,yaw)\n",
    "q1 = (10, 10, -1.57)\n",
    "\n",
    "#radius of feasible turn\n",
    "turning_radius = 2.0\n",
    "\n",
    "#sampling \"rate\" or distance\n",
    "step_size = 1.5\n",
    "\n",
    "fig,ax = plt.subplots(1,5,sharex=True,sharey=True)\n",
    "fig.set_size_inches(10,3)\n",
    "\n",
    "for a,word in zip(ax,words):\n",
    "    path = dubins.path(q0, q1, turning_radius, word)\n",
    "    if path != None:\n",
    "        configurations, _ = path.sample_many(step_size)\n",
    "        configurations = np.array(configurations)\n",
    "        a.axis('equal')\n",
    "        a.plot(configurations[:,0], configurations[:,1], 'b-')\n",
    "        a.plot(configurations[:,0], configurations[:,1], 'r*')\n",
    "        \n",
    "plt.show()\n"
   ]
  },
  {
   "cell_type": "markdown",
   "metadata": {},
   "source": [
    "# Making our Own Path Set Class\n",
    "\n",
    "The interface for the Dubins curve library is nice, but not necessarily what we want for our vehicles at the moment. Now we will create a flexible path set library."
   ]
  },
  {
   "cell_type": "code",
   "execution_count": 112,
   "metadata": {
    "collapsed": false
   },
   "outputs": [
    {
     "data": {
      "image/png": "[encoded data removed]",
      "text/plain": [
       "<matplotlib.figure.Figure at 0x7f154bb5e690>"
      ]
     },
     "metadata": {},
     "output_type": "display_data"
    }
   ],
   "source": [
    "class Path_Generator:\n",
    "    '''The Path_Generator class, initially parameterized with:\n",
    "    \n",
    "    frontier_size (int) the number of points on the frontier we should consider for navigation\n",
    "    horizon_length (float) distance between the vehicle and the horizon to consider\n",
    "    turning_radius (float) the feasible turning radius for the vehicle\n",
    "    sample_step (float) the unit length along the path from which to draw a sample'''\n",
    "    \n",
    "    def __init__(self, frontier_size, horizon_length, turning_radius, sample_step):\n",
    "        self.fs = frontier_size\n",
    "        self.hl = horizon_length\n",
    "        self.tr = turning_radius\n",
    "        self.ss = sample_step\n",
    "        \n",
    "        self.goals = []\n",
    "        self.cp = (0,0,0)\n",
    "        \n",
    "    def generate_frontier_points(self, current_pose):\n",
    "        '''From the frontier_size and horizon_length, generate the frontier points to goal'''\n",
    "        angle = np.linspace(-2.35,2.35,self.fs)\n",
    "        self.goals = [(self.hl*np.cos(current_pose[2]+a)+current_pose[0], self.hl*np.sin(current_pose[2]+a)+current_pose[1], current_pose[2]+a) for a in angle]\n",
    "        return self.goals\n",
    "        \n",
    "    def make_sample_paths(self, current_pose):\n",
    "        '''Connect the current_pose to the goal places'''\n",
    "        cp = np.array(current_pose)\n",
    "        coords = {}\n",
    "        for i,goal in enumerate(self.goals):\n",
    "            g = np.array(goal)\n",
    "            distance = np.sqrt((cp[0]-g[0])**2 + (cp[1]-g[1])**2)\n",
    "            samples = int(round(distance/self.ss))\n",
    "            \n",
    "            for i in range(0,samples):\n",
    "                x = cp[0]+(i*self.ss)*np.cos(g[2])\n",
    "                y = cp[1]+(i*self.ss)*np.sin(g[2])\n",
    "                try: \n",
    "                    coords[i].append((x,y))\n",
    "                except:\n",
    "                    coords[i] = []\n",
    "                    coords[i].append((x,y))\n",
    "        return coords\n",
    "\n",
    "PG = Path_Generator(10, 5, 5, 0.5)\n",
    "m = PG.generate_frontier_points((10,10,0))\n",
    "m = np.array(m)\n",
    "\n",
    "l = PG.make_sample_paths((10,10,0))\n",
    "\n",
    "fig,ax = plt.subplots(1,1)\n",
    "ax.axis('equal')\n",
    "for key,val in l.items():\n",
    "    f = np.array(val)\n",
    "    plt.plot(f[:,0], f[:,1], 'b*')\n",
    "    \n",
    "plt.plot(m[:,0], m[:,1], 'r*')\n",
    "# plt.plot(l[:,0], l[:,1], 'b*')\n",
    "plt.show()\n",
    "        \n",
    "    "
   ]
  },
  {
   "cell_type": "code",
   "execution_count": 115,
   "metadata": {
    "collapsed": false
   },
   "outputs": [
    {
     "data": {
      "image/png": "[encoded data removed]",
      "text/plain": [
       "<matplotlib.figure.Figure at 0x7f154c29b450>"
      ]
     },
     "metadata": {},
     "output_type": "display_data"
    }
   ],
   "source": [
    "class Dubins_Path_Generator:\n",
    "    '''The Path_Generator class, initially parameterized with:\n",
    "    \n",
    "    frontier_size (int) the number of points on the frontier we should consider for navigation\n",
    "    horizon_length (float) distance between the vehicle and the horizon to consider\n",
    "    turning_radius (float) the feasible turning radius for the vehicle\n",
    "    sample_step (float) the unit length along the path from which to draw a sample'''\n",
    "    \n",
    "    def __init__(self, frontier_size, horizon_length, turning_radius, sample_step):\n",
    "        self.fs = frontier_size\n",
    "        self.hl = horizon_length\n",
    "        self.tr = turning_radius\n",
    "        self.ss = sample_step\n",
    "        \n",
    "        self.goals = []\n",
    "        self.cp = (0,0,0)\n",
    "        \n",
    "    def generate_frontier_points(self, current_pose):\n",
    "        '''From the frontier_size and horizon_length, generate the frontier points to goal'''\n",
    "        angle = np.linspace(-2.35,2.35,self.fs)\n",
    "        self.goals = [(self.hl*np.cos(a+current_pose[2])+current_pose[0], self.hl*np.sin(a+current_pose[2])+current_pose[1], a+current_pose[2]) for a in angle]\n",
    "        return self.goals\n",
    "        \n",
    "    def make_sample_paths(self, current_pose):\n",
    "        '''Connect the current_pose to the goal places'''\n",
    "        coords = {}\n",
    "        for i,goal in enumerate(self.goals):\n",
    "            g = (goal[0],goal[1],current_pose[2])\n",
    "            path = dubins.shortest_path(current_pose, goal, self.tr)\n",
    "            configurations, _ = path.sample_many(self.ss)\n",
    "            coords[i] = configurations\n",
    "        return coords\n",
    "\n",
    "PG = Dubins_Path_Generator(10, 5, 1, 0.7)\n",
    "m = PG.generate_frontier_points((10,10,1.57))\n",
    "m = np.array(m)\n",
    "\n",
    "l = PG.make_sample_paths((10,10,1.57))\n",
    "\n",
    "fig,ax = plt.subplots(1,1)\n",
    "ax.axis('equal')\n",
    "for key,val in l.items():\n",
    "    f = np.array(val)\n",
    "    plt.plot(f[:,0], f[:,1], 'b*')\n",
    "    \n",
    "plt.plot(m[:,0], m[:,1], 'r*')\n",
    "# plt.plot(l[:,0], l[:,1], 'b*')\n",
    "plt.show()\n",
    "        \n",
    "    "
   ]
  },
  {
   "cell_type": "code",
   "execution_count": null,
   "metadata": {
    "collapsed": true
   },
   "outputs": [],
   "source": []
  }
 ],
 "metadata": {
  "kernelspec": {
   "display_name": "Python 2",
   "language": "python",
   "name": "python2"
  },
  "language_info": {
   "codemirror_mode": {
    "name": "ipython",
    "version": 2
   },
   "file_extension": ".py",
   "mimetype": "text/x-python",
   "name": "python",
   "nbconvert_exporter": "python",
   "pygments_lexer": "ipython2",
   "version": "2.7.12"
  }
 },
 "nbformat": 4,
 "nbformat_minor": 0
}
