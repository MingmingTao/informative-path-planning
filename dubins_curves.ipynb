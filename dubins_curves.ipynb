{
 "cells": [
  {
   "cell_type": "markdown",
   "metadata": {},
   "source": [
    "# Implementing Dubins Curves\n",
    "This notebook is intended for testing different libraries or formulations for Dubins curve type path sets to be used for simulation and field planning work in an adaptive sampling/informative path planning regime.\n",
    "\n",
    "Please note, that you may need to install the following in order to play with the [dubins library](https://github.com/AndrewWalker/Dubins-Curves):\n",
    "\n",
    "```pip install dubins```\n",
    "\n",
    "This library allows for the generation of dubins curves assuming that the turning radius is known. It also provides sample points along the curve given some sampling step.\n"
   ]
  },
  {
   "cell_type": "code",
   "execution_count": 1,
   "metadata": {},
   "outputs": [],
   "source": [
    "# Necessary Imports\n",
    "import dubins\n",
    "import numpy as np\n",
    "import matplotlib.pyplot as plt\n",
    "%matplotlib inline"
   ]
  },
  {
   "cell_type": "markdown",
   "metadata": {},
   "source": [
    "## Learning the Dubins Library\n",
    "The dubins library used here is a cython wrapper for a more powerful C++ library. The methods relevant to our implementation are demonstrated and documented inline below."
   ]
  },
  {
   "cell_type": "code",
   "execution_count": 2,
   "metadata": {},
   "outputs": [
    {
     "data": {
      "text/plain": [
       "[<matplotlib.lines.Line2D at 0x7f936c36df90>]"
      ]
     },
     "execution_count": 2,
     "metadata": {},
     "output_type": "execute_result"
    },
    {
     "data": {
      "image/png": "[encoded data removed]",
      "text/plain": [
       "<matplotlib.figure.Figure at 0x7f936c655410>"
      ]
     },
     "metadata": {},
     "output_type": "display_data"
    }
   ],
   "source": [
    "# Generating the shortest path; the library internally cycles through different dubins curve paths to select the\n",
    "# shortest length path.\n",
    "\n",
    "#starting location (x,y,yaw)\n",
    "q0 = (0, 0, 0)\n",
    "\n",
    "#goal location (x,y,yaw)\n",
    "q1 = (10, 10, 3.14)\n",
    "\n",
    "#radius of feasible turn\n",
    "turning_radius = 1.0\n",
    "\n",
    "#sampling \"rate\" or distance\n",
    "step_size = 0.5\n",
    "\n",
    "#find the shortest path, returns a dubins object\n",
    "path = dubins.shortest_path(q0, q1, turning_radius)\n",
    "\n",
    "#sample the path and return the points along the path\n",
    "#methods to apply on the path include sample_many and sample\n",
    "configurations, _ = path.sample_many(step_size)\n",
    "\n",
    "#plot the path\n",
    "x = []\n",
    "y = []\n",
    "for sample_points in configurations:\n",
    "    x.append(sample_points[0])\n",
    "    y.append(sample_points[1])\n",
    "plt.plot(x,y,'r*')"
   ]
  },
  {
   "cell_type": "code",
   "execution_count": 3,
   "metadata": {},
   "outputs": [
    {
     "data": {
      "image/png": "[encoded data removed]",
      "text/plain": [
       "<matplotlib.figure.Figure at 0x7f936c379810>"
      ]
     },
     "metadata": {},
     "output_type": "display_data"
    }
   ],
   "source": [
    "# Generating any path from a set of options. The options, documented below are referred to as \"words\" and consist of\n",
    "# different turning options (3 segments are connected, segments are either left turn, straight, or right turn).\n",
    "\n",
    "# Words: LSL = 0, LSR = 1, RSL = 2, RSR = 3, RLR = 4, LRL = 5\n",
    "words = [0,1,2,3,4,5]\n",
    "\n",
    "#starting location (x,y,yaw)\n",
    "q0 = (0, 0, 0)\n",
    "\n",
    "#goal location (x,y,yaw)\n",
    "q1 = (10, 10, -1.57)\n",
    "\n",
    "#radius of feasible turn\n",
    "turning_radius = 2.0\n",
    "\n",
    "#sampling \"rate\" or distance\n",
    "step_size = 1.5\n",
    "\n",
    "fig,ax = plt.subplots(1,5,sharex=True,sharey=True)\n",
    "fig.set_size_inches(10,3)\n",
    "\n",
    "#generate a figure for each of the options\n",
    "for a,word in zip(ax,words):\n",
    "    path = dubins.path(q0, q1, turning_radius, word)\n",
    "    # Note! If a path is not feasible, path will be a Nonetype object, which will need to be handled\n",
    "    if path != None:\n",
    "        configurations, _ = path.sample_many(step_size)\n",
    "        configurations = np.array(configurations)\n",
    "        a.axis('equal')\n",
    "        a.plot(configurations[:,0], configurations[:,1], 'b-')\n",
    "        a.plot(configurations[:,0], configurations[:,1], 'r*')\n",
    "        \n",
    "plt.show()"
   ]
  },
  {
   "cell_type": "markdown",
   "metadata": {},
   "source": [
    "## Making our Own Path Set Class\n",
    "\n",
    "The interface for the dubins curve library is nice, but not quite ready in this form factor to interface with our system. We will now create three different path generation classes: Path_Generator, Dubins_Path_Generator, and Dubins_EqualPath_Generator.\n",
    "\n",
    "**Path_Generator** creates the naive point to point connections from one point to another.\n",
    "\n",
    "**Dubins_Path_Generator** create point-to-point connections, but calls upon the dubins library to generate paths.\n",
    "\n",
    "**Dubins_EqualPath_Generator** controls for the number of sample points along the dubins trajectories so that all trajectories have the same number of samples available. This is useful if we would like to control for the number of points along a curve to consider in information space.\n",
    "\n",
    "All classes can be parameterized by selecting the number of paths to generate (frontier_size), the distance between the center point and the horizon (horizon_length), vehicle dynamics (turning_radius), and sampling rate (sample_step). The pose of the robot is provided at every timestep in order to generate the world-coordinate sensitive list of path sets."
   ]
  },
  {
   "cell_type": "code",
   "execution_count": 328,
   "metadata": {},
   "outputs": [],
   "source": [
    "'''The Path_Generator class which creates naive point-to-point straightline paths'''\n",
    "class Path_Generator:    \n",
    "    def __init__(self, frontier_size, horizon_length, turning_radius, sample_step, extent):\n",
    "        ''' Initialize a path generator\n",
    "        Input:\n",
    "            frontier_size (int) the number of points on the frontier we should consider for navigation\n",
    "            horizon_length (float) distance between the vehicle and the horizon to consider\n",
    "            turning_radius (float) the feasible turning radius for the vehicle\n",
    "            sample_step (float) the unit length along the path from which to draw a sample\n",
    "            extent (list of floats) the world boundaries\n",
    "        '''\n",
    "\n",
    "        # the parameters for the dubin trajectory\n",
    "        self.fs = frontier_size\n",
    "        self.hl = horizon_length\n",
    "        self.tr = turning_radius\n",
    "        self.ss = sample_step\n",
    "        self.extent = extent\n",
    "\n",
    "        # Global variables\n",
    "        self.goals = [] #The frontier coordinates\n",
    "        self.samples = {} #The sample points which form the paths\n",
    "        self.cp = (0,0,0) #The current pose of the vehicle\n",
    "\n",
    "    def generate_frontier_points(self):\n",
    "        '''From the frontier_size and horizon_length, generate the frontier points to goal'''\n",
    "        angle = np.linspace(-2.35,2.35,self.fs) #fix the possibilities to 75% of the unit circle, ignoring points directly behind the vehicle\n",
    "        goals = []\n",
    "        for a in angle:\n",
    "            x = self.hl*np.cos(self.cp[2]+a)+self.cp[0]\n",
    "            if x >= self.extent[1]-2*self.tr:\n",
    "                x = self.extent[1]-2*self.tr\n",
    "                y = (x-self.cp[0])*np.sin(self.cp[2]+a)+self.cp[1]\n",
    "            elif x <= self.extent[0]+2*self.tr:\n",
    "                x = self.extent[0]+2*self.tr\n",
    "                y = (x-self.cp[0])*np.sin(self.cp[2]+a)+self.cp[1]\n",
    "            else:\n",
    "                y = self.hl*np.sin(self.cp[2]+a)+self.cp[1]\n",
    "                if y >= self.extent[3]-2*self.tr:\n",
    "                    y = self.extent[3]-2*self.tr\n",
    "                    x = (y-self.cp[1])*np.cos(self.cp[2]+a)+self.cp[0]\n",
    "                elif y <= self.extent[2]+2*self.tr:\n",
    "                    y = self.extent[2]+2*self.tr\n",
    "                    x = (y-self.cp[1])*np.cos(self.cp[2]+a)+self.cp[0]\n",
    "            p = self.cp[2]+a\n",
    "            if np.fabs(self.cp[0]-x) <= self.tr or np.fabs(self.cp[1]-y) <= self.tr:\n",
    "                pass\n",
    "            else:\n",
    "                goals.append((x,y,p))\n",
    "        \n",
    "        self.goals = goals\n",
    "        return self.goals\n",
    "\n",
    "    def make_sample_paths(self):\n",
    "        '''Connect the current_pose to the goal places'''\n",
    "        cp = np.array(self.cp)\n",
    "        coords = {}\n",
    "        for i,goal in enumerate(self.goals):\n",
    "            g = np.array(goal)\n",
    "            distance = np.sqrt((cp[0]-g[0])**2 + (cp[1]-g[1])**2)\n",
    "            samples = int(round(distance/self.ss))\n",
    "\n",
    "            # Don't include the start location but do include the end point\n",
    "            for j in range(0,samples):\n",
    "                x = cp[0]+((j+1)*self.ss)*np.cos(g[2])\n",
    "                y = cp[1]+((j+1)*self.ss)*np.sin(g[2])\n",
    "                a = g[2]\n",
    "                try: \n",
    "                    coords[i].append((x,y,a))\n",
    "                except:\n",
    "                    coords[i] = []\n",
    "                    coords[i].append((x,y,a))\n",
    "        self.samples = coords\n",
    "        return self.samples\n",
    "\n",
    "    def get_path_set(self, current_pose):\n",
    "        '''Primary interface for getting list of path sample points for evaluation\n",
    "        Input:\n",
    "            current_pose (tuple of x, y, z, a which are floats) current location of the robot in world coordinates\n",
    "        Output:\n",
    "            paths (dictionary of frontier keys and sample points)\n",
    "        '''\n",
    "        self.cp = current_pose\n",
    "        self.generate_frontier_points()\n",
    "        paths = self.make_sample_paths()\n",
    "        return paths\n",
    "\n",
    "    def get_frontier_points(self):\n",
    "        ''' Method to access the goal points'''\n",
    "        return self.goals\n",
    "\n",
    "    def get_sample_points(self):\n",
    "        return self.samples"
   ]
  },
  {
   "cell_type": "code",
   "execution_count": 346,
   "metadata": {},
   "outputs": [
    {
     "name": "stdout",
     "output_type": "stream",
     "text": [
      "(9.014692023250602, 5.8181107549731115, 4.125844833060149)\n",
      "(9.325395428937602, 5.664643342718667, 4.380886837980739)\n",
      "(9.622147746802646, 8.511881890809606, 1.6563501301320342)\n",
      "(9.268466761986316, 8.434962902461066, 1.914007493531631)\n",
      "(8.949841177169288, 8.272431657232918, 2.1714529224721253)\n",
      "(8.686860386359612, 8.037704682693807, 2.428000238208201)\n",
      "(8.495123680474473, 7.749042443137105, 2.6830422431287904)\n"
     ]
    },
    {
     "data": {
      "image/png": "[encoded data removed]",
      "text/plain": [
       "<matplotlib.figure.Figure at 0x7f935f296b90>"
      ]
     },
     "metadata": {},
     "output_type": "display_data"
    }
   ],
   "source": [
    "class Dubins_Path_Generator(Path_Generator):\n",
    "    '''\n",
    "    The Dubins_Path_Generator class, which inherits from the Path_Generator class. Replaces the make_sample_paths\n",
    "    method with paths generated using the dubins library\n",
    "    '''\n",
    "    \n",
    "    def buffered_paths(self):\n",
    "        coords = {}\n",
    "        for i,goal in enumerate(self.goals):            \n",
    "            path = dubins.shortest_path(self.cp, goal, self.tr)\n",
    "            configurations, _ = path.sample_many(self.ss)\n",
    "            temp = []\n",
    "            for config in configurations:\n",
    "                if config[0] > self.extent[0] and config[0] < self.extent[1] and config[1] > self.extent[2] and config[1] < self.extent[3]:\n",
    "                    temp.append(config)\n",
    "                else:\n",
    "                    print 'here'\n",
    "                    temp = []\n",
    "                    break\n",
    "\n",
    "            if len(temp) < 2:\n",
    "                pass\n",
    "            else:\n",
    "                print temp[-1]\n",
    "                coords[i] = temp\n",
    "        return coords    \n",
    "        \n",
    "    def make_sample_paths(self):\n",
    "        '''Connect the current_pose to the goal places'''\n",
    "        coords = self.buffered_paths()\n",
    "        \n",
    "        if len(coords) == 0:\n",
    "            print 'no viable path'\n",
    "            \n",
    "        self.samples = coords\n",
    "        return coords\n",
    "\n",
    "    \n",
    "DPG = Dubins_Path_Generator(frontier_size=20, horizon_length=1.5, turning_radius=0.06, sample_step=0.5, extent=[0,10,0,10])\n",
    "s = DPG.get_path_set((9.698987054572976, 7.037606127809733, 0.2628508845046764))\n",
    "\n",
    "m = DPG.get_frontier_points()\n",
    "m = np.array(m)\n",
    "l = DPG.get_sample_points()\n",
    "\n",
    "fig,ax = plt.subplots(1,1)\n",
    "ax.axis('equal')\n",
    "for key,val in l.items():\n",
    "    f = np.array(val)\n",
    "    plt.plot(f[:,0], f[:,1], 'b*')\n",
    "    \n",
    "plt.plot(m[:,0], m[:,1], 'r*')\n",
    "plt.plot(DPG.cp[0], DPG.cp[1], 'g*')\n",
    "plt.show()"
   ]
  },
  {
   "cell_type": "code",
   "execution_count": 255,
   "metadata": {},
   "outputs": [
    {
     "ename": "TypeError",
     "evalue": "__init__() takes exactly 6 arguments (5 given)",
     "output_type": "error",
     "traceback": [
      "\u001b[0;31m---------------------------------------------------------------------------\u001b[0m",
      "\u001b[0;31mTypeError\u001b[0m                                 Traceback (most recent call last)",
      "\u001b[0;32m<ipython-input-255-1b5548fe0dea>\u001b[0m in \u001b[0;36m<module>\u001b[0;34m()\u001b[0m\n\u001b[1;32m     29\u001b[0m         \u001b[0;32mreturn\u001b[0m \u001b[0mcoords\u001b[0m\u001b[0;34m\u001b[0m\u001b[0m\n\u001b[1;32m     30\u001b[0m \u001b[0;34m\u001b[0m\u001b[0m\n\u001b[0;32m---> 31\u001b[0;31m \u001b[0mDEPG\u001b[0m \u001b[0;34m=\u001b[0m \u001b[0mDubins_EqualPath_Generator\u001b[0m\u001b[0;34m(\u001b[0m\u001b[0mfrontier_size\u001b[0m\u001b[0;34m=\u001b[0m\u001b[0;36m6\u001b[0m\u001b[0;34m,\u001b[0m \u001b[0mhorizon_length\u001b[0m\u001b[0;34m=\u001b[0m\u001b[0;36m5\u001b[0m\u001b[0;34m,\u001b[0m \u001b[0mturning_radius\u001b[0m\u001b[0;34m=\u001b[0m\u001b[0;36m1\u001b[0m\u001b[0;34m,\u001b[0m \u001b[0msample_step\u001b[0m\u001b[0;34m=\u001b[0m\u001b[0;36m0.5\u001b[0m\u001b[0;34m)\u001b[0m\u001b[0;34m\u001b[0m\u001b[0m\n\u001b[0m\u001b[1;32m     32\u001b[0m \u001b[0ms\u001b[0m \u001b[0;34m=\u001b[0m \u001b[0mDEPG\u001b[0m\u001b[0;34m.\u001b[0m\u001b[0mget_path_set\u001b[0m\u001b[0;34m(\u001b[0m\u001b[0;34m(\u001b[0m\u001b[0;34m-\u001b[0m\u001b[0;36m10\u001b[0m\u001b[0;34m,\u001b[0m\u001b[0;34m-\u001b[0m\u001b[0;36m10\u001b[0m\u001b[0;34m,\u001b[0m\u001b[0;36m0\u001b[0m\u001b[0;34m)\u001b[0m\u001b[0;34m)\u001b[0m\u001b[0;34m\u001b[0m\u001b[0m\n\u001b[1;32m     33\u001b[0m \u001b[0;34m\u001b[0m\u001b[0m\n",
      "\u001b[0;31mTypeError\u001b[0m: __init__() takes exactly 6 arguments (5 given)"
     ]
    }
   ],
   "source": [
    "class Dubins_EqualPath_Generator(Path_Generator):\n",
    "    '''\n",
    "    The Dubins_EqualPath_Generator class which inherits from Path_Generator. Modifies Dubin Curve paths so that all\n",
    "    options have an equal number of sampling points\n",
    "    '''\n",
    "        \n",
    "    def make_sample_paths(self):\n",
    "        '''Connect the current_pose to the goal places'''\n",
    "        coords = {}\n",
    "        for i,goal in enumerate(self.goals):\n",
    "            g = (goal[0],goal[1],self.cp[2])\n",
    "            path = dubins.shortest_path(self.cp, goal, self.tr)\n",
    "            configurations, _ = path.sample_many(self.ss)\n",
    "            coords[i] = configurations\n",
    "        \n",
    "        # find the \"shortest\" path in sample space\n",
    "        current_min = 1000\n",
    "        for key,path in coords.items():\n",
    "            if len(path) < current_min:\n",
    "                current_min = len(path)\n",
    "        \n",
    "        # limit all paths to the shortest path in sample space\n",
    "        for key,path in coords.items():\n",
    "            if len(path) > current_min:\n",
    "                path = path[0:current_min]\n",
    "                coords[key]=path\n",
    "        \n",
    "        self.samples = coords\n",
    "        return coords\n",
    "\n",
    "DEPG = Dubins_EqualPath_Generator(frontier_size=6, horizon_length=5, turning_radius=1, sample_step=0.5)\n",
    "s = DEPG.get_path_set((-10,-10,0))\n",
    "\n",
    "m = DEPG.get_frontier_points()\n",
    "m = np.array(m)\n",
    "l = DEPG.get_sample_points()\n",
    "\n",
    "fig,ax = plt.subplots(1,1)\n",
    "ax.axis('equal')\n",
    "for key,val in l.items():\n",
    "    f = np.array(val)\n",
    "    plt.plot(f[:,0], f[:,1], 'b*')\n",
    "    \n",
    "plt.plot(m[:,0], m[:,1], 'r*')\n",
    "plt.show()"
   ]
  },
  {
   "cell_type": "code",
   "execution_count": null,
   "metadata": {},
   "outputs": [],
   "source": []
  },
  {
   "cell_type": "code",
   "execution_count": null,
   "metadata": {
    "collapsed": true
   },
   "outputs": [],
   "source": []
  }
 ],
 "metadata": {
  "kernelspec": {
   "display_name": "Python 2",
   "language": "python",
   "name": "python2"
  },
  "language_info": {
   "codemirror_mode": {
    "name": "ipython",
    "version": 2
   },
   "file_extension": ".py",
   "mimetype": "text/x-python",
   "name": "python",
   "nbconvert_exporter": "python",
   "pygments_lexer": "ipython2",
   "version": "2.7.14"
  }
 },
 "nbformat": 4,
 "nbformat_minor": 1
}
